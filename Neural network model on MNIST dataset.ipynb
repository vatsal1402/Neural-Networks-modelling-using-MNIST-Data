{
 "cells": [
  {
   "cell_type": "markdown",
   "metadata": {},
   "source": [
    "# Deep Neural Network for MNIST Classification\n",
    "\n",
    "The dataset is called MNIST and refers to handwritten digit recognition. You can find more about it on Yann LeCun's website (Director of AI Research, Facebook). He is one of the pioneers of what we've been talking about and of more complex approaches that are widely used today, such as covolutional neural networks (CNNs). \n",
    "\n",
    "The dataset provides 70,000 images (28x28 pixels) of handwritten digits (1 digit per image). \n",
    "\n",
    "The goal is to write an algorithm that detects which digit is written. Since there are only 10 digits (0, 1, 2, 3, 4, 5, 6, 7, 8, 9), this is a classification problem with 10 classes. \n",
    "\n",
    "Our goal would be to build a neural network with 2 hidden layers."
   ]
  },
  {
   "cell_type": "markdown",
   "metadata": {},
   "source": [
    "## Import the relevant packages"
   ]
  },
  {
   "cell_type": "code",
   "execution_count": 2,
   "metadata": {},
   "outputs": [],
   "source": [
    "import numpy as np\n",
    "import tensorflow as tf\n",
    "\n",
    "# TensorFLow includes a data provider for MNIST that we'll use.\n",
    "# It comes with the tensorflow-datasets module, therefore, if you haven't please install the package using\n",
    "# pip install tensorflow-datasets \n",
    "# or\n",
    "# conda install tensorflow-datasets\n",
    "\n",
    "import tensorflow_datasets as tfds\n",
    "\n",
    "# these datasets will be stored in C:\\Users\\*USERNAME*\\tensorflow_datasets\\...\n",
    "# the first time you download a dataset, it is stored in the respective folder \n",
    "# every other time, it is automatically loading the copy on your computer "
   ]
  },
  {
   "cell_type": "markdown",
   "metadata": {},
   "source": [
    "## Data\n",
    "\n",
    "That's where we load and preprocess our data."
   ]
  },
  {
   "cell_type": "code",
   "execution_count": 3,
   "metadata": {},
   "outputs": [],
   "source": [
    "# remember the comment from above\n",
    "# these datasets will be stored in C:\\Users\\*USERNAME*\\tensorflow_datasets\\...\n",
    "# the first time you download a dataset, it is stored in the respective folder \n",
    "# every other time, it is automatically loading the copy on your computer \n",
    "\n",
    "# tfds.load actually loads a dataset (or downloads and then loads if that's the first time you use it) \n",
    "# in our case, we are interesteed in the MNIST; the name of the dataset is the only mandatory argument\n",
    "# there are other arguments we can specify, which we can find useful\n",
    "# mnist_dataset = tfds.load(name='mnist', as_supervised=True)\n",
    "mnist_dataset, mnist_info = tfds.load(name='mnist', with_info=True, as_supervised=True)\n",
    "# with_info=True will also provide us with a tuple containing information about the version, features, number of samples\n",
    "# we will use this information a bit below and we will store it in mnist_info\n",
    "\n",
    "# as_supervised=True will load the dataset in a 2-tuple structure (input, target) \n",
    "# alternatively, as_supervised=False, would return a dictionary\n",
    "# obviously we prefer to have our inputs and targets separated \n",
    "\n",
    "# once we have loaded the dataset, we can easily extract the training and testing dataset with the built references\n",
    "mnist_train, mnist_test = mnist_dataset['train'], mnist_dataset['test']\n",
    "\n",
    "# by default, TF has training and testing datasets, but no validation sets\n",
    "# thus we must split it on our own\n",
    "\n",
    "# we start by defining the number of validation samples as a % of the train samples\n",
    "# this is also where we make use of mnist_info (we don't have to count the observations)\n",
    "num_validation_samples = 0.1 * mnist_info.splits['train'].num_examples\n",
    "# let's cast this number to an integer, as a float may cause an error along the way\n",
    "num_validation_samples = tf.cast(num_validation_samples, tf.int64)\n",
    "\n",
    "# let's also store the number of test samples in a dedicated variable (instead of using the mnist_info one)\n",
    "num_test_samples = mnist_info.splits['test'].num_examples\n",
    "# once more, we'd prefer an integer (rather than the default float)\n",
    "num_test_samples = tf.cast(num_test_samples, tf.int64)\n",
    "\n",
    "\n",
    "# normally, we would like to scale our data in some way to make the result more numerically stable\n",
    "# in this case we will simply prefer to have inputs between 0 and 1\n",
    "# let's define a function called: scale, that will take an MNIST image and its label\n",
    "def scale(image, label):\n",
    "    # we make sure the value is a float\n",
    "    image = tf.cast(image, tf.float32)\n",
    "    # since the possible values for the inputs are 0 to 255 (256 different shades of grey)\n",
    "    # if we divide each element by 255, we would get the desired result -> all elements will be between 0 and 1 \n",
    "    image /= 255.\n",
    "\n",
    "    return image, label\n",
    "\n",
    "\n",
    "# the method .map() allows us to apply a custom transformation to a given dataset\n",
    "# we have already decided that we will get the validation data from mnist_train, so \n",
    "scaled_train_and_validation_data = mnist_train.map(scale)\n",
    "\n",
    "# finally, we scale and batch the test data\n",
    "# we scale it so it has the same magnitude as the train and validation\n",
    "# there is no need to shuffle it, because we won't be training on the test data\n",
    "# there would be a single batch, equal to the size of the test data\n",
    "test_data = mnist_test.map(scale)\n",
    "\n",
    "\n",
    "# let's also shuffle the data\n",
    "\n",
    "BUFFER_SIZE = 10000\n",
    "# this BUFFER_SIZE parameter is here for cases when we're dealing with enormous datasets\n",
    "# then we can't shuffle the whole dataset in one go because we can't fit it all in memory\n",
    "# so instead TF only stores BUFFER_SIZE samples in memory at a time and shuffles them\n",
    "# if BUFFER_SIZE=1 => no shuffling will actually happen\n",
    "# if BUFFER_SIZE >= num samples => shuffling is uniform\n",
    "# BUFFER_SIZE in between - a computational optimization to approximate uniform shuffling\n",
    "\n",
    "# luckily for us, there is a shuffle method readily available and we just need to specify the buffer size\n",
    "shuffled_train_and_validation_data = scaled_train_and_validation_data.shuffle(BUFFER_SIZE)\n",
    "\n",
    "# once we have scaled and shuffled the data, we can proceed to actually extracting the train and validation\n",
    "# our validation data would be equal to 10% of the training set, which we've already calculated\n",
    "# we use the .take() method to take that many samples\n",
    "# finally, we create a batch with a batch size equal to the total number of validation samples\n",
    "validation_data = shuffled_train_and_validation_data.take(num_validation_samples)\n",
    "\n",
    "# similarly, the train_data is everything else, so we skip as many samples as there are in the validation dataset\n",
    "train_data = shuffled_train_and_validation_data.skip(num_validation_samples)\n",
    "\n",
    "# determine the batch size\n",
    "BATCH_SIZE = 1000\n",
    "\n",
    "# we can also take advantage of the occasion to batch the train data\n",
    "# this would be very helpful when we train, as we would be able to iterate over the different batches\n",
    "train_data = train_data.batch(BATCH_SIZE)\n",
    "\n",
    "validation_data = validation_data.batch(num_validation_samples)\n",
    "\n",
    "# batch the test data\n",
    "test_data = test_data.batch(num_test_samples)\n",
    "\n",
    "\n",
    "# takes next batch (it is the only batch)\n",
    "# because as_supervized=True, we've got a 2-tuple structure\n",
    "validation_inputs, validation_targets = next(iter(validation_data))"
   ]
  },
  {
   "cell_type": "markdown",
   "metadata": {},
   "source": [
    "## Model"
   ]
  },
  {
   "cell_type": "markdown",
   "metadata": {},
   "source": [
    "### Outline the model\n",
    "When thinking about a deep learning algorithm, we mostly imagine building the model. So, let's do it :)"
   ]
  },
  {
   "cell_type": "code",
   "execution_count": 4,
   "metadata": {},
   "outputs": [],
   "source": [
    "input_size = 784\n",
    "output_size = 10\n",
    "# Use same hidden layer size for both hidden layers. Not a necessity.\n",
    "hidden_layer_size = 50\n",
    "    \n",
    "# define how the model will look like\n",
    "model = tf.keras.Sequential([\n",
    "    \n",
    "    # the first layer (the input layer)\n",
    "    # each observation is 28x28x1 pixels, therefore it is a tensor of rank 3\n",
    "    # since we don't know CNNs yet, we don't know how to feed such input into our net, so we must flatten the images\n",
    "    # there is a convenient method 'Flatten' that simply takes our 28x28x1 tensor and orders it into a (None,) \n",
    "    # or (28x28x1,) = (784,) vector\n",
    "    # this allows us to actually create a feed forward neural network\n",
    "    tf.keras.layers.Flatten(input_shape=(28, 28, 1)), # input layer\n",
    "    \n",
    "    # tf.keras.layers.Dense is basically implementing: output = activation(dot(input, weight) + bias)\n",
    "    # it takes several arguments, but the most important ones for us are the hidden_layer_size and the activation function\n",
    "    tf.keras.layers.Dense(hidden_layer_size, activation='relu'), # 1st hidden layer\n",
    "    tf.keras.layers.Dense(hidden_layer_size, activation='relu'), # 2nd hidden layer\n",
    "    \n",
    "    # the final layer is no different, we just make sure to activate it with softmax\n",
    "    tf.keras.layers.Dense(output_size, activation='softmax') # output layer\n",
    "])"
   ]
  },
  {
   "cell_type": "markdown",
   "metadata": {},
   "source": [
    "### Choose the optimizer and the loss function"
   ]
  },
  {
   "cell_type": "code",
   "execution_count": 5,
   "metadata": {},
   "outputs": [],
   "source": [
    "# we define the optimizer we'd like to use, \n",
    "# the loss function, \n",
    "# and the metrics we are interested in obtaining at each iteration\n",
    "model.compile(optimizer='adam', loss='sparse_categorical_crossentropy', metrics=['accuracy'])"
   ]
  },
  {
   "cell_type": "markdown",
   "metadata": {},
   "source": [
    "### Training\n",
    "That's where we train the model we have built."
   ]
  },
  {
   "cell_type": "code",
   "execution_count": 6,
   "metadata": {},
   "outputs": [
    {
     "name": "stdout",
     "output_type": "stream",
     "text": [
      "Epoch 1/50\n",
      "54/54 - 8s - loss: 1.1669 - accuracy: 0.6690 - val_loss: 0.4392 - val_accuracy: 0.8800\n",
      "Epoch 2/50\n",
      "54/54 - 2s - loss: 0.3605 - accuracy: 0.8997 - val_loss: 0.2902 - val_accuracy: 0.9163\n",
      "Epoch 3/50\n",
      "54/54 - 1s - loss: 0.2788 - accuracy: 0.9204 - val_loss: 0.2378 - val_accuracy: 0.9325\n",
      "Epoch 4/50\n",
      "54/54 - 1s - loss: 0.2367 - accuracy: 0.9326 - val_loss: 0.2058 - val_accuracy: 0.9420\n",
      "Epoch 5/50\n",
      "54/54 - 1s - loss: 0.2067 - accuracy: 0.9415 - val_loss: 0.1825 - val_accuracy: 0.9463\n",
      "Epoch 6/50\n",
      "54/54 - 1s - loss: 0.1836 - accuracy: 0.9477 - val_loss: 0.1653 - val_accuracy: 0.9538\n",
      "Epoch 7/50\n",
      "54/54 - 2s - loss: 0.1651 - accuracy: 0.9525 - val_loss: 0.1497 - val_accuracy: 0.9590\n",
      "Epoch 8/50\n",
      "54/54 - 1s - loss: 0.1516 - accuracy: 0.9568 - val_loss: 0.1410 - val_accuracy: 0.9607\n",
      "Epoch 9/50\n",
      "54/54 - 1s - loss: 0.1392 - accuracy: 0.9602 - val_loss: 0.1293 - val_accuracy: 0.9637\n",
      "Epoch 10/50\n",
      "54/54 - 1s - loss: 0.1284 - accuracy: 0.9632 - val_loss: 0.1212 - val_accuracy: 0.9637\n",
      "Epoch 11/50\n",
      "54/54 - 1s - loss: 0.1193 - accuracy: 0.9654 - val_loss: 0.1158 - val_accuracy: 0.9653\n",
      "Epoch 12/50\n",
      "54/54 - 2s - loss: 0.1103 - accuracy: 0.9684 - val_loss: 0.1104 - val_accuracy: 0.9667\n",
      "Epoch 13/50\n",
      "54/54 - 1s - loss: 0.1049 - accuracy: 0.9700 - val_loss: 0.1073 - val_accuracy: 0.9675\n",
      "Epoch 14/50\n",
      "54/54 - 1s - loss: 0.0986 - accuracy: 0.9721 - val_loss: 0.1023 - val_accuracy: 0.9700\n",
      "Epoch 15/50\n",
      "54/54 - 2s - loss: 0.0937 - accuracy: 0.9729 - val_loss: 0.0933 - val_accuracy: 0.9722\n",
      "Epoch 16/50\n",
      "54/54 - 2s - loss: 0.0870 - accuracy: 0.9754 - val_loss: 0.0913 - val_accuracy: 0.9725\n",
      "Epoch 17/50\n",
      "54/54 - 1s - loss: 0.0830 - accuracy: 0.9765 - val_loss: 0.0882 - val_accuracy: 0.9723\n",
      "Epoch 18/50\n",
      "54/54 - 1s - loss: 0.0812 - accuracy: 0.9766 - val_loss: 0.0898 - val_accuracy: 0.9728\n",
      "Epoch 19/50\n",
      "54/54 - 1s - loss: 0.0752 - accuracy: 0.9783 - val_loss: 0.0813 - val_accuracy: 0.9757\n",
      "Epoch 20/50\n",
      "54/54 - 1s - loss: 0.0728 - accuracy: 0.9788 - val_loss: 0.0758 - val_accuracy: 0.9780\n",
      "Epoch 21/50\n",
      "54/54 - 1s - loss: 0.0686 - accuracy: 0.9799 - val_loss: 0.0764 - val_accuracy: 0.9772\n",
      "Epoch 22/50\n",
      "54/54 - 1s - loss: 0.0666 - accuracy: 0.9808 - val_loss: 0.0734 - val_accuracy: 0.9792\n",
      "Epoch 23/50\n",
      "54/54 - 1s - loss: 0.0632 - accuracy: 0.9820 - val_loss: 0.0666 - val_accuracy: 0.9807\n",
      "Epoch 24/50\n",
      "54/54 - 1s - loss: 0.0610 - accuracy: 0.9826 - val_loss: 0.0670 - val_accuracy: 0.9807\n",
      "Epoch 25/50\n",
      "54/54 - 1s - loss: 0.0563 - accuracy: 0.9839 - val_loss: 0.0639 - val_accuracy: 0.9813\n",
      "Epoch 26/50\n",
      "54/54 - 1s - loss: 0.0545 - accuracy: 0.9845 - val_loss: 0.0609 - val_accuracy: 0.9830\n",
      "Epoch 27/50\n",
      "54/54 - 1s - loss: 0.0528 - accuracy: 0.9848 - val_loss: 0.0606 - val_accuracy: 0.9802\n",
      "Epoch 28/50\n",
      "54/54 - 1s - loss: 0.0508 - accuracy: 0.9853 - val_loss: 0.0575 - val_accuracy: 0.9837\n",
      "Epoch 29/50\n",
      "54/54 - 1s - loss: 0.0496 - accuracy: 0.9859 - val_loss: 0.0581 - val_accuracy: 0.9815\n",
      "Epoch 30/50\n",
      "54/54 - 1s - loss: 0.0479 - accuracy: 0.9861 - val_loss: 0.0548 - val_accuracy: 0.9848\n",
      "Epoch 31/50\n",
      "54/54 - 2s - loss: 0.0458 - accuracy: 0.9866 - val_loss: 0.0538 - val_accuracy: 0.9845\n",
      "Epoch 32/50\n",
      "54/54 - 1s - loss: 0.0422 - accuracy: 0.9880 - val_loss: 0.0516 - val_accuracy: 0.9853\n",
      "Epoch 33/50\n",
      "54/54 - 1s - loss: 0.0410 - accuracy: 0.9889 - val_loss: 0.0481 - val_accuracy: 0.9855\n",
      "Epoch 34/50\n",
      "54/54 - 2s - loss: 0.0399 - accuracy: 0.9886 - val_loss: 0.0482 - val_accuracy: 0.9862\n",
      "Epoch 35/50\n",
      "54/54 - 1s - loss: 0.0399 - accuracy: 0.9887 - val_loss: 0.0460 - val_accuracy: 0.9858\n",
      "Epoch 36/50\n",
      "54/54 - 2s - loss: 0.0368 - accuracy: 0.9899 - val_loss: 0.0452 - val_accuracy: 0.9855\n",
      "Epoch 37/50\n",
      "54/54 - 2s - loss: 0.0358 - accuracy: 0.9905 - val_loss: 0.0433 - val_accuracy: 0.9880\n",
      "Epoch 38/50\n",
      "54/54 - 2s - loss: 0.0332 - accuracy: 0.9915 - val_loss: 0.0421 - val_accuracy: 0.9887\n",
      "Epoch 39/50\n",
      "54/54 - 2s - loss: 0.0324 - accuracy: 0.9914 - val_loss: 0.0416 - val_accuracy: 0.9885\n",
      "Epoch 40/50\n",
      "54/54 - 1s - loss: 0.0307 - accuracy: 0.9921 - val_loss: 0.0416 - val_accuracy: 0.9878\n",
      "Epoch 41/50\n",
      "54/54 - 1s - loss: 0.0299 - accuracy: 0.9925 - val_loss: 0.0389 - val_accuracy: 0.9897\n",
      "Epoch 42/50\n",
      "54/54 - 2s - loss: 0.0295 - accuracy: 0.9923 - val_loss: 0.0388 - val_accuracy: 0.9878\n",
      "Epoch 43/50\n",
      "54/54 - 1s - loss: 0.0288 - accuracy: 0.9925 - val_loss: 0.0378 - val_accuracy: 0.9880\n",
      "Epoch 44/50\n",
      "54/54 - 1s - loss: 0.0271 - accuracy: 0.9930 - val_loss: 0.0349 - val_accuracy: 0.9898\n",
      "Epoch 45/50\n",
      "54/54 - 1s - loss: 0.0250 - accuracy: 0.9940 - val_loss: 0.0350 - val_accuracy: 0.9907\n",
      "Epoch 46/50\n",
      "54/54 - 1s - loss: 0.0247 - accuracy: 0.9941 - val_loss: 0.0339 - val_accuracy: 0.9895\n",
      "Epoch 47/50\n",
      "54/54 - 1s - loss: 0.0245 - accuracy: 0.9940 - val_loss: 0.0345 - val_accuracy: 0.9902\n",
      "Epoch 48/50\n",
      "54/54 - 2s - loss: 0.0236 - accuracy: 0.9945 - val_loss: 0.0321 - val_accuracy: 0.9907\n",
      "Epoch 49/50\n",
      "54/54 - 1s - loss: 0.0222 - accuracy: 0.9947 - val_loss: 0.0315 - val_accuracy: 0.9912\n",
      "Epoch 50/50\n",
      "54/54 - 1s - loss: 0.0215 - accuracy: 0.9952 - val_loss: 0.0298 - val_accuracy: 0.9922\n"
     ]
    },
    {
     "data": {
      "text/plain": [
       "<tensorflow.python.keras.callbacks.History at 0x16adc7c5108>"
      ]
     },
     "execution_count": 6,
     "metadata": {},
     "output_type": "execute_result"
    }
   ],
   "source": [
    "# determine the maximum number of epochs\n",
    "NUM_EPOCHS = 50\n",
    "\n",
    "# we fit the model, specifying the\n",
    "# training data\n",
    "# the total number of epochs\n",
    "# and the validation data we just created ourselves in the format: (inputs,targets)\n",
    "model.fit(train_data, epochs=NUM_EPOCHS, validation_data=(validation_inputs, validation_targets),validation_steps = 10, verbose =2)"
   ]
  },
  {
   "cell_type": "markdown",
   "metadata": {},
   "source": [
    "## Test the model\n",
    "\n",
    "As we discussed in the lectures, after training on the training data and validating on the validation data, we test the final prediction power of our model by running it on the test dataset that the algorithm has NEVER seen before.\n",
    "\n",
    "It is very important to realize that fiddling with the hyperparameters overfits the validation dataset. \n",
    "\n",
    "The test is the absolute final instance. You should not test before you are completely done with adjusting your model.\n",
    "\n",
    "If you adjust your model after testing, you will start overfitting the test dataset, which will defeat its purpose."
   ]
  },
  {
   "cell_type": "code",
   "execution_count": 9,
   "metadata": {},
   "outputs": [
    {
     "name": "stdout",
     "output_type": "stream",
     "text": [
      "      1/Unknown - 1s 1s/step - loss: 0.0897 - accuracy: 0.97 - 1s 1s/step - loss: 0.0897 - accuracy: 0.9728"
     ]
    }
   ],
   "source": [
    "test_loss, test_accuracy = model.evaluate(test_data)"
   ]
  },
  {
   "cell_type": "code",
   "execution_count": 10,
   "metadata": {},
   "outputs": [
    {
     "name": "stdout",
     "output_type": "stream",
     "text": [
      "Test loss: 0.09. Test accuracy: 97.28%\n"
     ]
    }
   ],
   "source": [
    "# We can apply some nice formatting if we want to\n",
    "print('Test loss: {0:.2f}. Test accuracy: {1:.2f}%'.format(test_loss, test_accuracy*100.))"
   ]
  },
  {
   "cell_type": "markdown",
   "metadata": {},
   "source": [
    "Using the initial model and hyperparameters given in this notebook, the final test accuracy should be roughly around 97%.\n",
    "\n",
    "Each time the code is rerun, we get a different accuracy as the batches are shuffled, the weights are initialized in a different way, etc.\n",
    "\n",
    "Finally, we have intentionally reached a suboptimal solution, so you can have space to build on it."
   ]
  }
 ],
 "metadata": {
  "kernelspec": {
   "display_name": "Python (myenv)",
   "language": "python",
   "name": "python3-tensorflow2.0"
  },
  "language_info": {
   "codemirror_mode": {
    "name": "ipython",
    "version": 3
   },
   "file_extension": ".py",
   "mimetype": "text/x-python",
   "name": "python",
   "nbconvert_exporter": "python",
   "pygments_lexer": "ipython3",
   "version": "3.7.7"
  }
 },
 "nbformat": 4,
 "nbformat_minor": 2
}
